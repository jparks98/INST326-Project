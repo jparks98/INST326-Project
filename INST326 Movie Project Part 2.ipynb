{
 "cells": [
  {
   "cell_type": "code",
   "execution_count": 40,
   "metadata": {},
   "outputs": [],
   "source": [
    "import scipy as sp\n",
    "import pandas as pd\n",
    "import matplotlib.pyplot as plt\n",
    "import seaborn as sns\n",
    "import datetime as datetime\n",
    "import numpy as np\n",
    "import statsmodels.formula.api as smf"
   ]
  },
  {
   "cell_type": "code",
   "execution_count": 41,
   "metadata": {},
   "outputs": [],
   "source": [
    "movie = pd.read_csv(\"INST326Project.csv\")"
   ]
  },
  {
   "cell_type": "code",
   "execution_count": 42,
   "metadata": {
    "scrolled": true
   },
   "outputs": [
    {
     "data": {
      "text/html": [
       "<div>\n",
       "<style scoped>\n",
       "    .dataframe tbody tr th:only-of-type {\n",
       "        vertical-align: middle;\n",
       "    }\n",
       "\n",
       "    .dataframe tbody tr th {\n",
       "        vertical-align: top;\n",
       "    }\n",
       "\n",
       "    .dataframe thead th {\n",
       "        text-align: right;\n",
       "    }\n",
       "</style>\n",
       "<table border=\"1\" class=\"dataframe\">\n",
       "  <thead>\n",
       "    <tr style=\"text-align: right;\">\n",
       "      <th></th>\n",
       "      <th>Movie</th>\n",
       "      <th>Release\\nDate</th>\n",
       "      <th>Distributor</th>\n",
       "      <th>MPAA\\nRating</th>\n",
       "      <th>Domestic Gross</th>\n",
       "      <th>Inflation-Adjusted\\nGross</th>\n",
       "      <th>Genre</th>\n",
       "    </tr>\n",
       "  </thead>\n",
       "  <tbody>\n",
       "    <tr>\n",
       "      <td>0</td>\n",
       "      <td>Bon Voyage!</td>\n",
       "      <td>1962-05-17</td>\n",
       "      <td>Walt Disney</td>\n",
       "      <td>Not Rated</td>\n",
       "      <td>9230769</td>\n",
       "      <td>104043955</td>\n",
       "      <td>Comedy</td>\n",
       "    </tr>\n",
       "    <tr>\n",
       "      <td>1</td>\n",
       "      <td>Alfie</td>\n",
       "      <td>1966-08-24</td>\n",
       "      <td>Paramount Pictures</td>\n",
       "      <td>PG</td>\n",
       "      <td>18871300</td>\n",
       "      <td>136600509</td>\n",
       "      <td>Comedy</td>\n",
       "    </tr>\n",
       "    <tr>\n",
       "      <td>2</td>\n",
       "      <td>The Two of Us</td>\n",
       "      <td>1968-02-19</td>\n",
       "      <td>Rialto Pictures</td>\n",
       "      <td>Not Rated</td>\n",
       "      <td>50710</td>\n",
       "      <td>305422</td>\n",
       "      <td>Comedy</td>\n",
       "    </tr>\n",
       "    <tr>\n",
       "      <td>3</td>\n",
       "      <td>Candy</td>\n",
       "      <td>1968-12-17</td>\n",
       "      <td>Sony Pictures</td>\n",
       "      <td>R</td>\n",
       "      <td>16408286</td>\n",
       "      <td>98825477</td>\n",
       "      <td>Comedy</td>\n",
       "    </tr>\n",
       "    <tr>\n",
       "      <td>4</td>\n",
       "      <td>Bananas</td>\n",
       "      <td>1971-04-28</td>\n",
       "      <td>MGM</td>\n",
       "      <td>PG-13</td>\n",
       "      <td>0</td>\n",
       "      <td>0</td>\n",
       "      <td>Comedy</td>\n",
       "    </tr>\n",
       "  </tbody>\n",
       "</table>\n",
       "</div>"
      ],
      "text/plain": [
       "           Movie Release\\nDate         Distributor MPAA\\nRating  \\\n",
       "0    Bon Voyage!    1962-05-17         Walt Disney    Not Rated   \n",
       "1          Alfie    1966-08-24  Paramount Pictures           PG   \n",
       "2  The Two of Us    1968-02-19     Rialto Pictures    Not Rated   \n",
       "3          Candy    1968-12-17       Sony Pictures            R   \n",
       "4        Bananas    1971-04-28                 MGM        PG-13   \n",
       "\n",
       "  Domestic Gross Inflation-Adjusted\\nGross   Genre  \n",
       "0        9230769                 104043955  Comedy  \n",
       "1       18871300                 136600509  Comedy  \n",
       "2          50710                    305422  Comedy  \n",
       "3       16408286                  98825477  Comedy  \n",
       "4              0                         0  Comedy  "
      ]
     },
     "execution_count": 42,
     "metadata": {},
     "output_type": "execute_result"
    }
   ],
   "source": [
    "movie.head()"
   ]
  },
  {
   "cell_type": "code",
   "execution_count": 43,
   "metadata": {},
   "outputs": [],
   "source": [
    "movie.columns = [c.replace('\\n', '_') for c in movie.columns]\n",
    "movie.columns = [c.replace('-', '_') for c in movie.columns]"
   ]
  },
  {
   "cell_type": "code",
   "execution_count": 44,
   "metadata": {},
   "outputs": [
    {
     "data": {
      "text/plain": [
       "Index(['Movie', 'Release_Date', 'Distributor', 'MPAA_Rating', 'Domestic Gross',\n",
       "       'Inflation_Adjusted_Gross', 'Genre'],\n",
       "      dtype='object')"
      ]
     },
     "execution_count": 44,
     "metadata": {},
     "output_type": "execute_result"
    }
   ],
   "source": [
    "movie.columns"
   ]
  },
  {
   "cell_type": "code",
   "execution_count": 45,
   "metadata": {
    "scrolled": true
   },
   "outputs": [],
   "source": [
    "movie2=movie[movie.Release_Date !=\"1927-03-06\"]"
   ]
  },
  {
   "cell_type": "code",
   "execution_count": 46,
   "metadata": {
    "scrolled": true
   },
   "outputs": [
    {
     "name": "stderr",
     "output_type": "stream",
     "text": [
      "C:\\Users\\jpark\\Anaconda3\\lib\\site-packages\\ipykernel_launcher.py:1: SettingWithCopyWarning: \n",
      "A value is trying to be set on a copy of a slice from a DataFrame.\n",
      "Try using .loc[row_indexer,col_indexer] = value instead\n",
      "\n",
      "See the caveats in the documentation: http://pandas.pydata.org/pandas-docs/stable/user_guide/indexing.html#returning-a-view-versus-a-copy\n",
      "  \"\"\"Entry point for launching an IPython kernel.\n"
     ]
    }
   ],
   "source": [
    "movie2['Release_Date'] = pd.to_datetime(movie2['Release_Date'], dayfirst=True, errors ='coerce')"
   ]
  },
  {
   "cell_type": "code",
   "execution_count": 47,
   "metadata": {
    "scrolled": true
   },
   "outputs": [],
   "source": [
    "#movie2.Release_Date = pd.to_datetime(movie2.Release_Date, format='%m/%d/%Y')"
   ]
  },
  {
   "cell_type": "code",
   "execution_count": 48,
   "metadata": {},
   "outputs": [],
   "source": [
    "from datetime import date\n",
    "\n",
    "date_from = pd.Timestamp(date(1980,1,1))\n",
    "date_to = pd.Timestamp(date(1989,12,31))\n",
    "\n",
    "# df is defined in the previous example\n",
    "\n",
    "d1980 = movie2[\n",
    "    (movie2['Release_Date'] > date_from ) &\n",
    "    (movie2['Release_Date'] < date_to)\n",
    "]\n",
    "\n"
   ]
  },
  {
   "cell_type": "code",
   "execution_count": 49,
   "metadata": {},
   "outputs": [],
   "source": [
    "from datetime import date\n",
    "\n",
    "date_from = pd.Timestamp(date(1990,1,1))\n",
    "date_to = pd.Timestamp(date(1999,12,31))\n",
    "\n",
    "# df is defined in the previous example\n",
    "\n",
    "d1990 = movie2[\n",
    "    (movie2['Release_Date'] > date_from ) &\n",
    "    (movie2['Release_Date'] < date_to)\n",
    "]\n",
    "\n"
   ]
  },
  {
   "cell_type": "code",
   "execution_count": 50,
   "metadata": {},
   "outputs": [],
   "source": [
    "from datetime import date\n",
    "\n",
    "date_from = pd.Timestamp(date(2000,1,1))\n",
    "date_to = pd.Timestamp(date(2009,12,31))\n",
    "\n",
    "# df is defined in the previous example\n",
    "\n",
    "d2000 = movie2[\n",
    "    (movie2['Release_Date'] > date_from ) &\n",
    "    (movie2['Release_Date'] < date_to)\n",
    "]\n",
    "\n"
   ]
  },
  {
   "cell_type": "code",
   "execution_count": 51,
   "metadata": {},
   "outputs": [],
   "source": [
    "from datetime import date\n",
    "\n",
    "date_from = pd.Timestamp(date(2010,1,1))\n",
    "date_to = pd.Timestamp(date(2017,12,31))\n",
    "\n",
    "# df is defined in the previous example\n",
    "\n",
    "d1980 = movie2[\n",
    "    (movie2['Release_Date'] > date_from ) &\n",
    "    (movie2['Release_Date'] < date_to)\n",
    "]\n",
    "\n"
   ]
  },
  {
   "cell_type": "code",
   "execution_count": 52,
   "metadata": {},
   "outputs": [
    {
     "name": "stderr",
     "output_type": "stream",
     "text": [
      "C:\\Users\\jpark\\Anaconda3\\lib\\site-packages\\ipykernel_launcher.py:4: SettingWithCopyWarning: \n",
      "A value is trying to be set on a copy of a slice from a DataFrame.\n",
      "Try using .loc[row_indexer,col_indexer] = value instead\n",
      "\n",
      "See the caveats in the documentation: http://pandas.pydata.org/pandas-docs/stable/user_guide/indexing.html#returning-a-view-versus-a-copy\n",
      "  after removing the cwd from sys.path.\n"
     ]
    }
   ],
   "source": [
    "#Turns the rating into a numerical Value\n",
    "findL = ['Not Rated', 'G', 'PG', 'PG-13', 'R', 'NC-17', 'Open']\n",
    "replaceL = [0,1,2,3,4,5,5]\n",
    "d2000['MPAA_Rating'] = d2000['MPAA_Rating'].replace(findL, replaceL)"
   ]
  },
  {
   "cell_type": "code",
   "execution_count": 53,
   "metadata": {},
   "outputs": [
    {
     "name": "stderr",
     "output_type": "stream",
     "text": [
      "C:\\Users\\jpark\\Anaconda3\\lib\\site-packages\\ipykernel_launcher.py:4: SettingWithCopyWarning: \n",
      "A value is trying to be set on a copy of a slice from a DataFrame.\n",
      "Try using .loc[row_indexer,col_indexer] = value instead\n",
      "\n",
      "See the caveats in the documentation: http://pandas.pydata.org/pandas-docs/stable/user_guide/indexing.html#returning-a-view-versus-a-copy\n",
      "  after removing the cwd from sys.path.\n"
     ]
    }
   ],
   "source": [
    "#Combine like Genres\n",
    "findG = ['Action','Adventure','Black Comedy','Romantic Comedy','Musical','Multiple Genres','Western','Thriller/Suspense']\n",
    "replaceG = ['Action/Adventure','Action/Adventure','Comedy','Comedy','Other','Other','Other','Thriller/Horror']\n",
    "d2000['Genre'] = d2000['Genre'].replace(findG, replaceG)\n"
   ]
  },
  {
   "cell_type": "code",
   "execution_count": 54,
   "metadata": {},
   "outputs": [
    {
     "name": "stderr",
     "output_type": "stream",
     "text": [
      "C:\\Users\\jpark\\Anaconda3\\lib\\site-packages\\ipykernel_launcher.py:2: SettingWithCopyWarning: \n",
      "A value is trying to be set on a copy of a slice from a DataFrame.\n",
      "Try using .loc[row_indexer,col_indexer] = value instead\n",
      "\n",
      "See the caveats in the documentation: http://pandas.pydata.org/pandas-docs/stable/user_guide/indexing.html#returning-a-view-versus-a-copy\n",
      "  \n"
     ]
    }
   ],
   "source": [
    "#Turns the gross into a numerical value\n",
    "d2000['Inflation_Adjusted_Gross'] = d2000['Inflation_Adjusted_Gross'].astype(float)"
   ]
  },
  {
   "cell_type": "code",
   "execution_count": 55,
   "metadata": {},
   "outputs": [
    {
     "data": {
      "text/plain": [
       "Movie                               object\n",
       "Release_Date                datetime64[ns]\n",
       "Distributor                         object\n",
       "MPAA_Rating                          int64\n",
       "Domestic Gross                      object\n",
       "Inflation_Adjusted_Gross           float64\n",
       "Genre                               object\n",
       "dtype: object"
      ]
     },
     "execution_count": 55,
     "metadata": {},
     "output_type": "execute_result"
    }
   ],
   "source": [
    "d2000.dtypes"
   ]
  },
  {
   "cell_type": "markdown",
   "metadata": {},
   "source": [
    "# Test and Regression Start\n"
   ]
  },
  {
   "cell_type": "code",
   "execution_count": 56,
   "metadata": {
    "scrolled": true
   },
   "outputs": [
    {
     "name": "stdout",
     "output_type": "stream",
     "text": [
      "-3.63568099215046 0.0004440329384387731\n"
     ]
    }
   ],
   "source": [
    "#Gets 50 random samples from 2 different genres\n",
    "comedy = d2000[d2000['Genre']=='Comedy']['Inflation_Adjusted_Gross'].sample(50)\n",
    "Action = d2000[d2000['Genre']=='Action/Adventure']['Inflation_Adjusted_Gross'].sample(50)\n",
    "#Runs a T-Test\n",
    "t,p = sp.stats.ttest_ind(comedy, Action)\n",
    "print(t, p)"
   ]
  },
  {
   "cell_type": "code",
   "execution_count": 57,
   "metadata": {},
   "outputs": [
    {
     "name": "stdout",
     "output_type": "stream",
     "text": [
      "                            OLS Regression Results                            \n",
      "==============================================================================\n",
      "Dep. Variable:            MPAA_Rating   R-squared:                       0.020\n",
      "Model:                            OLS   Adj. R-squared:                  0.019\n",
      "Method:                 Least Squares   F-statistic:                     85.70\n",
      "Date:                Wed, 11 Dec 2019   Prob (F-statistic):           3.23e-20\n",
      "Time:                        19:19:21   Log-Likelihood:                -8104.4\n",
      "No. Observations:                4285   AIC:                         1.621e+04\n",
      "Df Residuals:                    4283   BIC:                         1.623e+04\n",
      "Df Model:                           1                                         \n",
      "Covariance Type:            nonrobust                                         \n",
      "============================================================================================\n",
      "                               coef    std err          t      P>|t|      [0.025      0.975]\n",
      "--------------------------------------------------------------------------------------------\n",
      "Intercept                    2.3145      0.027     86.220      0.000       2.262       2.367\n",
      "Inflation_Adjusted_Gross  3.847e-09   4.16e-10      9.257      0.000    3.03e-09    4.66e-09\n",
      "==============================================================================\n",
      "Omnibus:                    47177.258   Durbin-Watson:                   1.672\n",
      "Prob(Omnibus):                  0.000   Jarque-Bera (JB):              484.623\n",
      "Skew:                          -0.443   Prob(JB):                    5.83e-106\n",
      "Kurtosis:                       1.610   Cond. No.                     7.08e+07\n",
      "==============================================================================\n",
      "\n",
      "Warnings:\n",
      "[1] Standard Errors assume that the covariance matrix of the errors is correctly specified.\n",
      "[2] The condition number is large, 7.08e+07. This might indicate that there are\n",
      "strong multicollinearity or other numerical problems.\n"
     ]
    }
   ],
   "source": [
    "#Linear Regression\n",
    "lm = smf.ols(formula='MPAA_Rating ~ Inflation_Adjusted_Gross', data=d2000).fit()\n",
    "\n",
    "print(lm.summary())"
   ]
  },
  {
   "cell_type": "code",
   "execution_count": 58,
   "metadata": {
    "scrolled": true
   },
   "outputs": [],
   "source": [
    "#Alternate Linear Regression\n",
    "\n",
    "from sklearn import linear_model\n",
    "import numpy as np\n",
    "feature_cols = ['MPAA_Rating']\n",
    "x = d2000[feature_cols]\n",
    "y=d2000['Inflation_Adjusted_Gross']\n",
    "lm = linear_model.LinearRegression()\n",
    "model = lm.fit(x,y)"
   ]
  },
  {
   "cell_type": "code",
   "execution_count": 59,
   "metadata": {},
   "outputs": [
    {
     "name": "stdout",
     "output_type": "stream",
     "text": [
      "[34437080.95308378 34437080.95308378 19139610.85999421 34437080.95308378\n",
      " 34437080.95308378]\n"
     ]
    }
   ],
   "source": [
    "#Next five Predictions\n",
    "predictions = lm.predict(x)\n",
    "print(predictions[0:5])"
   ]
  },
  {
   "cell_type": "code",
   "execution_count": 60,
   "metadata": {},
   "outputs": [
    {
     "data": {
      "text/plain": [
       "0.019616832840482105"
      ]
     },
     "execution_count": 60,
     "metadata": {},
     "output_type": "execute_result"
    }
   ],
   "source": [
    "#R^2 of model \n",
    "lm.score(x,y)"
   ]
  },
  {
   "cell_type": "code",
   "execution_count": 61,
   "metadata": {},
   "outputs": [
    {
     "data": {
      "text/plain": [
       "14040454.162297688"
      ]
     },
     "execution_count": 61,
     "metadata": {},
     "output_type": "execute_result"
    }
   ],
   "source": [
    "#Intercept\n",
    "lm.fit(x,y)\n",
    "lm.intercept_"
   ]
  },
  {
   "cell_type": "code",
   "execution_count": 62,
   "metadata": {},
   "outputs": [
    {
     "data": {
      "text/plain": [
       "array([5099156.69769652])"
      ]
     },
     "execution_count": 62,
     "metadata": {},
     "output_type": "execute_result"
    }
   ],
   "source": [
    "#coefficient\n",
    "lm.coef_"
   ]
  },
  {
   "cell_type": "code",
   "execution_count": null,
   "metadata": {},
   "outputs": [],
   "source": []
  }
 ],
 "metadata": {
  "kernelspec": {
   "display_name": "Python 3",
   "language": "python",
   "name": "python3"
  },
  "language_info": {
   "codemirror_mode": {
    "name": "ipython",
    "version": 3
   },
   "file_extension": ".py",
   "mimetype": "text/x-python",
   "name": "python",
   "nbconvert_exporter": "python",
   "pygments_lexer": "ipython3",
   "version": "3.7.4"
  }
 },
 "nbformat": 4,
 "nbformat_minor": 2
}
