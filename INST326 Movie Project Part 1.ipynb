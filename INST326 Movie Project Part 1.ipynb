{
 "cells": [
  {
   "cell_type": "code",
   "execution_count": null,
   "metadata": {},
   "outputs": [],
   "source": [
    "#######################################################################\n",
    "#    Yohannes Bulcho, Jonathan Fuentes, Dimeji Olayinka, Joshua Parks #\n",
    "#    115282902                                                        #\n",
    "#    2019-11-12                                                       #\n",
    "#    INST326 Final Project                                            #\n",
    "#######################################################################"
   ]
  },
  {
   "cell_type": "markdown",
   "metadata": {},
   "source": [
    "# Data Cleaning"
   ]
  },
  {
   "cell_type": "code",
   "execution_count": 30,
   "metadata": {},
   "outputs": [],
   "source": [
    "# Import various packages for data analysis\n",
    "\n",
    "import scipy as sp\n",
    "import pandas as pd\n",
    "import matplotlib.pyplot as plt\n",
    "import seaborn as sns\n",
    "import datetime as datetime\n",
    "import statsmodels.formula.api as smf\n",
    "import scipy as sp"
   ]
  },
  {
   "cell_type": "code",
   "execution_count": 31,
   "metadata": {},
   "outputs": [],
   "source": [
    "# Read in data set as movie variable\n",
    "\n",
    "movie = pd.read_csv(\"INST326Project.csv\")"
   ]
  },
  {
   "cell_type": "code",
   "execution_count": 32,
   "metadata": {},
   "outputs": [],
   "source": [
    "movie.columns = [c.replace('\\n', '_') for c in movie.columns]\n",
    "movie.columns = [c.replace('-', '_') for c in movie.columns]"
   ]
  },
  {
   "cell_type": "code",
   "execution_count": 33,
   "metadata": {},
   "outputs": [
    {
     "data": {
      "text/plain": [
       "Index(['Movie', 'Release_Date', 'Distributor', 'MPAA_Rating', 'Domestic Gross',\n",
       "       'Inflation_Adjusted_Gross', 'Genre'],\n",
       "      dtype='object')"
      ]
     },
     "execution_count": 33,
     "metadata": {},
     "output_type": "execute_result"
    }
   ],
   "source": [
    "movie.columns"
   ]
  },
  {
   "cell_type": "code",
   "execution_count": 34,
   "metadata": {
    "scrolled": true
   },
   "outputs": [],
   "source": [
    "movie2=movie[movie.Release_Date !=\"1927-03-06\"]"
   ]
  },
  {
   "cell_type": "code",
   "execution_count": 35,
   "metadata": {
    "scrolled": true
   },
   "outputs": [
    {
     "name": "stderr",
     "output_type": "stream",
     "text": [
      "C:\\Users\\jpark\\Anaconda3\\lib\\site-packages\\ipykernel_launcher.py:1: SettingWithCopyWarning: \n",
      "A value is trying to be set on a copy of a slice from a DataFrame.\n",
      "Try using .loc[row_indexer,col_indexer] = value instead\n",
      "\n",
      "See the caveats in the documentation: http://pandas.pydata.org/pandas-docs/stable/user_guide/indexing.html#returning-a-view-versus-a-copy\n",
      "  \"\"\"Entry point for launching an IPython kernel.\n"
     ]
    }
   ],
   "source": [
    "movie2['Release_Date'] = pd.to_datetime(movie2['Release_Date'], dayfirst=True, errors ='coerce')"
   ]
  },
  {
   "cell_type": "code",
   "execution_count": 37,
   "metadata": {},
   "outputs": [
    {
     "name": "stdout",
     "output_type": "stream",
     "text": [
      "Movie                               object\n",
      "Release_Date                datetime64[ns]\n",
      "Distributor                         object\n",
      "MPAA_Rating                          int64\n",
      "Domestic Gross                       int32\n",
      "Inflation_Adjusted_Gross             int32\n",
      "Genre                               object\n",
      "dtype: object\n"
     ]
    },
    {
     "name": "stderr",
     "output_type": "stream",
     "text": [
      "C:\\Users\\jpark\\Anaconda3\\lib\\site-packages\\ipykernel_launcher.py:17: SettingWithCopyWarning: \n",
      "A value is trying to be set on a copy of a slice from a DataFrame.\n",
      "Try using .loc[row_indexer,col_indexer] = value instead\n",
      "\n",
      "See the caveats in the documentation: http://pandas.pydata.org/pandas-docs/stable/user_guide/indexing.html#returning-a-view-versus-a-copy\n",
      "C:\\Users\\jpark\\Anaconda3\\lib\\site-packages\\ipykernel_launcher.py:20: SettingWithCopyWarning: \n",
      "A value is trying to be set on a copy of a slice from a DataFrame.\n",
      "Try using .loc[row_indexer,col_indexer] = value instead\n",
      "\n",
      "See the caveats in the documentation: http://pandas.pydata.org/pandas-docs/stable/user_guide/indexing.html#returning-a-view-versus-a-copy\n",
      "C:\\Users\\jpark\\Anaconda3\\lib\\site-packages\\ipykernel_launcher.py:21: SettingWithCopyWarning: \n",
      "A value is trying to be set on a copy of a slice from a DataFrame.\n",
      "Try using .loc[row_indexer,col_indexer] = value instead\n",
      "\n",
      "See the caveats in the documentation: http://pandas.pydata.org/pandas-docs/stable/user_guide/indexing.html#returning-a-view-versus-a-copy\n"
     ]
    },
    {
     "data": {
      "text/html": [
       "<div>\n",
       "<style scoped>\n",
       "    .dataframe tbody tr th:only-of-type {\n",
       "        vertical-align: middle;\n",
       "    }\n",
       "\n",
       "    .dataframe tbody tr th {\n",
       "        vertical-align: top;\n",
       "    }\n",
       "\n",
       "    .dataframe thead th {\n",
       "        text-align: right;\n",
       "    }\n",
       "</style>\n",
       "<table border=\"1\" class=\"dataframe\">\n",
       "  <thead>\n",
       "    <tr style=\"text-align: right;\">\n",
       "      <th></th>\n",
       "      <th>Movie</th>\n",
       "      <th>Release_Date</th>\n",
       "      <th>Distributor</th>\n",
       "      <th>MPAA_Rating</th>\n",
       "      <th>Domestic Gross</th>\n",
       "      <th>Inflation_Adjusted_Gross</th>\n",
       "      <th>Genre</th>\n",
       "    </tr>\n",
       "  </thead>\n",
       "  <tbody>\n",
       "    <tr>\n",
       "      <td>440</td>\n",
       "      <td>Next Friday</td>\n",
       "      <td>2000-01-12</td>\n",
       "      <td>New Line</td>\n",
       "      <td>4</td>\n",
       "      <td>57176582</td>\n",
       "      <td>83696331</td>\n",
       "      <td>Comedy</td>\n",
       "    </tr>\n",
       "    <tr>\n",
       "      <td>441</td>\n",
       "      <td>Isn't She Great</td>\n",
       "      <td>2000-01-28</td>\n",
       "      <td>Universal</td>\n",
       "      <td>4</td>\n",
       "      <td>2954405</td>\n",
       "      <td>4324722</td>\n",
       "      <td>Comedy</td>\n",
       "    </tr>\n",
       "    <tr>\n",
       "      <td>442</td>\n",
       "      <td>The Cup</td>\n",
       "      <td>2000-01-28</td>\n",
       "      <td>Fine Line</td>\n",
       "      <td>1</td>\n",
       "      <td>1067773</td>\n",
       "      <td>1563033</td>\n",
       "      <td>Comedy</td>\n",
       "    </tr>\n",
       "    <tr>\n",
       "      <td>443</td>\n",
       "      <td>The Big Tease</td>\n",
       "      <td>2000-01-28</td>\n",
       "      <td>Warner Bros.</td>\n",
       "      <td>4</td>\n",
       "      <td>185577</td>\n",
       "      <td>271653</td>\n",
       "      <td>Comedy</td>\n",
       "    </tr>\n",
       "    <tr>\n",
       "      <td>444</td>\n",
       "      <td>Gun Shy</td>\n",
       "      <td>2000-02-04</td>\n",
       "      <td>Walt Disney</td>\n",
       "      <td>4</td>\n",
       "      <td>1638202</td>\n",
       "      <td>2388721</td>\n",
       "      <td>Comedy</td>\n",
       "    </tr>\n",
       "  </tbody>\n",
       "</table>\n",
       "</div>"
      ],
      "text/plain": [
       "               Movie Release_Date   Distributor  MPAA_Rating  Domestic Gross  \\\n",
       "440      Next Friday   2000-01-12      New Line            4        57176582   \n",
       "441  Isn't She Great   2000-01-28     Universal            4         2954405   \n",
       "442          The Cup   2000-01-28     Fine Line            1         1067773   \n",
       "443    The Big Tease   2000-01-28  Warner Bros.            4          185577   \n",
       "444          Gun Shy   2000-02-04   Walt Disney            4         1638202   \n",
       "\n",
       "     Inflation_Adjusted_Gross   Genre  \n",
       "440                  83696331  Comedy  \n",
       "441                   4324722  Comedy  \n",
       "442                   1563033  Comedy  \n",
       "443                    271653  Comedy  \n",
       "444                   2388721  Comedy  "
      ]
     },
     "execution_count": 37,
     "metadata": {},
     "output_type": "execute_result"
    }
   ],
   "source": [
    "from datetime import date\n",
    "\n",
    "date_from = pd.Timestamp(date(2000,1,1))\n",
    "date_to = pd.Timestamp(date(2009,12,31))\n",
    "\n",
    "# df is defined in the previous example\n",
    "\n",
    "d2000 = movie2[\n",
    "    (movie2['Release_Date'] > date_from ) &\n",
    "    (movie2['Release_Date'] < date_to)\n",
    "]\n",
    "\n",
    "# Convert genre from categorical variables to numerical.\n",
    "# Not Rated = 0; G = 1, PG = 2; PG-13 = 3; R = 4; NC-17 & Open = 5\n",
    "findL = ['Not Rated', 'G', 'PG', 'PG-13', 'R', 'NC-17', 'Open']\n",
    "replaceL = [0,1,2,3,4,5,5]\n",
    "d2000['MPAA_Rating'] = d2000['MPAA_Rating'].replace(findL, replaceL)\n",
    "\n",
    "# Change types of 'Inflation-Adjusted_Gross' and 'Domestic Gross' to ints\n",
    "d2000[\"Inflation_Adjusted_Gross\"] = d2000[\"Inflation_Adjusted_Gross\"].astype(int) \n",
    "d2000[\"Domestic Gross\"] = d2000[\"Domestic Gross\"].astype(int) \n",
    "\n",
    "print(d2000.dtypes)\n",
    "d2000.head()"
   ]
  },
  {
   "cell_type": "markdown",
   "metadata": {},
   "source": [
    "# Graphs "
   ]
  },
  {
   "cell_type": "code",
   "execution_count": 38,
   "metadata": {},
   "outputs": [
    {
     "name": "stderr",
     "output_type": "stream",
     "text": [
      "C:\\Users\\jpark\\Anaconda3\\lib\\site-packages\\ipykernel_launcher.py:4: SettingWithCopyWarning: \n",
      "A value is trying to be set on a copy of a slice from a DataFrame.\n",
      "Try using .loc[row_indexer,col_indexer] = value instead\n",
      "\n",
      "See the caveats in the documentation: http://pandas.pydata.org/pandas-docs/stable/user_guide/indexing.html#returning-a-view-versus-a-copy\n",
      "  after removing the cwd from sys.path.\n"
     ]
    },
    {
     "data": {
      "image/png": "[encoded data removed]",
      "text/plain": [
       "<Figure size 432x288 with 1 Axes>"
      ]
     },
     "metadata": {},
     "output_type": "display_data"
    }
   ],
   "source": [
    "# Grouping genres by similar content to make data visualization cleaner.\n",
    "findG = ['Action','Adventure','Black Comedy','Romantic Comedy','Musical','Multiple Genres','Western','Thriller/Suspense']\n",
    "replaceG = ['Action/Adventure','Action/Adventure','Comedy','Comedy','Other','Other','Other','Thriller/Horror']\n",
    "d2000['Genre'] = d2000['Genre'].replace(findG, replaceG)\n",
    "\n",
    "# Bar chart of count of genres in dataset.\n",
    "sns.set_style(\"whitegrid\")\n",
    "ax = sns.countplot(x='Genre', data=d2000)\n",
    "ax.tick_params(axis=\"x\", labelsize=8)\n"
   ]
  },
  {
   "cell_type": "code",
   "execution_count": 39,
   "metadata": {},
   "outputs": [
    {
     "data": {
      "text/plain": [
       "(0, 4)"
      ]
     },
     "execution_count": 39,
     "metadata": {},
     "output_type": "execute_result"
    },
    {
     "data": {
      "image/png": "[encoded data removed]",
      "text/plain": [
       "<Figure size 432x288 with 1 Axes>"
      ]
     },
     "metadata": {},
     "output_type": "display_data"
    }
   ],
   "source": [
    "# Bar chart showing the count of the ratings for the movies \n",
    "\n",
    "sns.set_style(\"whitegrid\")\n",
    "a = sns.countplot(x='MPAA_Rating', data=d2000)\n",
    "plt.xlim(0,4)"
   ]
  },
  {
   "cell_type": "code",
   "execution_count": 40,
   "metadata": {},
   "outputs": [
    {
     "name": "stderr",
     "output_type": "stream",
     "text": [
      "C:\\Users\\jpark\\Anaconda3\\lib\\site-packages\\ipykernel_launcher.py:4: SettingWithCopyWarning: \n",
      "A value is trying to be set on a copy of a slice from a DataFrame.\n",
      "Try using .loc[row_indexer,col_indexer] = value instead\n",
      "\n",
      "See the caveats in the documentation: http://pandas.pydata.org/pandas-docs/stable/user_guide/indexing.html#returning-a-view-versus-a-copy\n",
      "  after removing the cwd from sys.path.\n"
     ]
    },
    {
     "data": {
      "text/plain": [
       "<seaborn.axisgrid.FacetGrid at 0x195fa76aa48>"
      ]
     },
     "execution_count": 40,
     "metadata": {},
     "output_type": "execute_result"
    },
    {
     "data": {
      "image/png": "[encoded data removed]",
      "text/plain": [
       "<Figure size 472.5x360 with 1 Axes>"
      ]
     },
     "metadata": {},
     "output_type": "display_data"
    }
   ],
   "source": [
    "# Grouping genres by similar content to make data visualization cleaner.\n",
    "findG = ['Action','Adventure','Black Comedy','Romantic Comedy','Musical','Multiple Genres','Western','Thriller/Suspense']\n",
    "replaceG = ['Action/Adventure','Action/Adventure','Comedy','Comedy','Other','Other','Other','Thriller/Horror']\n",
    "d2000['Genre'] = d2000['Genre'].replace(findG, replaceG)\n",
    "\n",
    "# Graph comparing movie ratings and their respective gross earnings for the 2000's. \n",
    "sns.relplot(x=\"MPAA_Rating\", y=\"Inflation_Adjusted_Gross\", hue=\"Genre\", data=d2000)\n",
    "\n"
   ]
  },
  {
   "cell_type": "code",
   "execution_count": 42,
   "metadata": {},
   "outputs": [
    {
     "data": {
      "text/plain": [
       "<matplotlib.axes._subplots.AxesSubplot at 0x195f776bf88>"
      ]
     },
     "execution_count": 42,
     "metadata": {},
     "output_type": "execute_result"
    },
    {
     "data": {
      "image/png": "[encoded data removed]",
      "text/plain": [
       "<Figure size 432x288 with 1 Axes>"
      ]
     },
     "metadata": {},
     "output_type": "display_data"
    }
   ],
   "source": [
    "# This boxplot shows that there's a lot of spread amongst the rating, specifically PG-13 (3) rated movies. \n",
    "\n",
    "sns.boxplot(x='MPAA_Rating',y='Inflation_Adjusted_Gross', data=d2000)"
   ]
  },
  {
   "cell_type": "code",
   "execution_count": 43,
   "metadata": {},
   "outputs": [
    {
     "data": {
      "text/plain": [
       "<matplotlib.axes._subplots.AxesSubplot at 0x195fa89bf08>"
      ]
     },
     "execution_count": 43,
     "metadata": {},
     "output_type": "execute_result"
    },
    {
     "data": {
      "image/png": "[encoded data removed]",
      "text/plain": [
       "<Figure size 432x288 with 1 Axes>"
      ]
     },
     "metadata": {},
     "output_type": "display_data"
    }
   ],
   "source": [
    "#Histogram showing that the rating is skewed left since rated R (4) movies are very present in the dataset. \n",
    "sns.distplot(d2000['MPAA_Rating'])"
   ]
  },
  {
   "cell_type": "code",
   "execution_count": 23,
   "metadata": {},
   "outputs": [
    {
     "data": {
      "image/png": "[encoded data removed]",
      "text/plain": [
       "<Figure size 432x288 with 1 Axes>"
      ]
     },
     "metadata": {},
     "output_type": "display_data"
    }
   ],
   "source": [
    "# Bar chart showing the count of ratings with genre as a filter\n",
    "\n",
    "ax = sns.countplot(x='MPAA_Rating', hue='Genre', data=d2000)"
   ]
  },
  {
   "cell_type": "markdown",
   "metadata": {},
   "source": [
    "# Descriptive Statistics"
   ]
  },
  {
   "cell_type": "code",
   "execution_count": 24,
   "metadata": {},
   "outputs": [
    {
     "data": {
      "text/html": [
       "<div>\n",
       "<style scoped>\n",
       "    .dataframe tbody tr th:only-of-type {\n",
       "        vertical-align: middle;\n",
       "    }\n",
       "\n",
       "    .dataframe tbody tr th {\n",
       "        vertical-align: top;\n",
       "    }\n",
       "\n",
       "    .dataframe thead th {\n",
       "        text-align: right;\n",
       "    }\n",
       "</style>\n",
       "<table border=\"1\" class=\"dataframe\">\n",
       "  <thead>\n",
       "    <tr style=\"text-align: right;\">\n",
       "      <th></th>\n",
       "      <th>Movie</th>\n",
       "      <th>Release_Date</th>\n",
       "      <th>Distributor</th>\n",
       "      <th>MPAA_Rating</th>\n",
       "      <th>Domestic Gross</th>\n",
       "      <th>Inflation-Adjusted_Gross</th>\n",
       "      <th>Genre</th>\n",
       "    </tr>\n",
       "  </thead>\n",
       "  <tbody>\n",
       "    <tr>\n",
       "      <td>440</td>\n",
       "      <td>Next Friday</td>\n",
       "      <td>2000-01-12</td>\n",
       "      <td>New Line</td>\n",
       "      <td>4</td>\n",
       "      <td>57176582</td>\n",
       "      <td>83696331</td>\n",
       "      <td>Comedy</td>\n",
       "    </tr>\n",
       "    <tr>\n",
       "      <td>441</td>\n",
       "      <td>Isn't She Great</td>\n",
       "      <td>2000-01-28</td>\n",
       "      <td>Universal</td>\n",
       "      <td>4</td>\n",
       "      <td>2954405</td>\n",
       "      <td>4324722</td>\n",
       "      <td>Comedy</td>\n",
       "    </tr>\n",
       "    <tr>\n",
       "      <td>442</td>\n",
       "      <td>The Cup</td>\n",
       "      <td>2000-01-28</td>\n",
       "      <td>Fine Line</td>\n",
       "      <td>1</td>\n",
       "      <td>1067773</td>\n",
       "      <td>1563033</td>\n",
       "      <td>Comedy</td>\n",
       "    </tr>\n",
       "    <tr>\n",
       "      <td>443</td>\n",
       "      <td>The Big Tease</td>\n",
       "      <td>2000-01-28</td>\n",
       "      <td>Warner Bros.</td>\n",
       "      <td>4</td>\n",
       "      <td>185577</td>\n",
       "      <td>271653</td>\n",
       "      <td>Comedy</td>\n",
       "    </tr>\n",
       "    <tr>\n",
       "      <td>444</td>\n",
       "      <td>Gun Shy</td>\n",
       "      <td>2000-02-04</td>\n",
       "      <td>Walt Disney</td>\n",
       "      <td>4</td>\n",
       "      <td>1638202</td>\n",
       "      <td>2388721</td>\n",
       "      <td>Comedy</td>\n",
       "    </tr>\n",
       "  </tbody>\n",
       "</table>\n",
       "</div>"
      ],
      "text/plain": [
       "               Movie Release_Date   Distributor  MPAA_Rating  Domestic Gross  \\\n",
       "440      Next Friday   2000-01-12      New Line            4        57176582   \n",
       "441  Isn't She Great   2000-01-28     Universal            4         2954405   \n",
       "442          The Cup   2000-01-28     Fine Line            1         1067773   \n",
       "443    The Big Tease   2000-01-28  Warner Bros.            4          185577   \n",
       "444          Gun Shy   2000-02-04   Walt Disney            4         1638202   \n",
       "\n",
       "     Inflation-Adjusted_Gross   Genre  \n",
       "440                  83696331  Comedy  \n",
       "441                   4324722  Comedy  \n",
       "442                   1563033  Comedy  \n",
       "443                    271653  Comedy  \n",
       "444                   2388721  Comedy  "
      ]
     },
     "execution_count": 24,
     "metadata": {},
     "output_type": "execute_result"
    }
   ],
   "source": [
    "d2000.head()"
   ]
  },
  {
   "cell_type": "code",
   "execution_count": 25,
   "metadata": {},
   "outputs": [
    {
     "data": {
      "text/plain": [
       "count    4285.000000\n",
       "mean        2.415869\n",
       "std         1.619999\n",
       "min         0.000000\n",
       "25%         0.000000\n",
       "50%         3.000000\n",
       "75%         4.000000\n",
       "max         5.000000\n",
       "Name: MPAA_Rating, dtype: float64"
      ]
     },
     "execution_count": 25,
     "metadata": {},
     "output_type": "execute_result"
    }
   ],
   "source": [
    "d2000['MPAA_Rating'].describe()"
   ]
  },
  {
   "cell_type": "code",
   "execution_count": 26,
   "metadata": {},
   "outputs": [
    {
     "data": {
      "text/plain": [
       "count    4.285000e+03\n",
       "mean     2.635935e+07\n",
       "std      5.897918e+07\n",
       "min      0.000000e+00\n",
       "25%      7.456800e+04\n",
       "50%      1.265012e+06\n",
       "75%      2.549441e+07\n",
       "max      7.788176e+08\n",
       "Name: Inflation-Adjusted_Gross, dtype: float64"
      ]
     },
     "execution_count": 26,
     "metadata": {},
     "output_type": "execute_result"
    }
   ],
   "source": [
    "d2000['Inflation_Adjusted_Gross'].describe()"
   ]
  },
  {
   "cell_type": "code",
   "execution_count": 27,
   "metadata": {},
   "outputs": [
    {
     "data": {
      "text/plain": [
       "count    4.285000e+03\n",
       "mean     2.132007e+07\n",
       "std      4.820263e+07\n",
       "min      0.000000e+00\n",
       "25%      6.367200e+04\n",
       "50%      1.032075e+06\n",
       "75%      2.044063e+07\n",
       "max      7.605076e+08\n",
       "Name: Domestic Gross, dtype: float64"
      ]
     },
     "execution_count": 27,
     "metadata": {},
     "output_type": "execute_result"
    }
   ],
   "source": [
    "d2000['Domestic Gross'].describe()"
   ]
  },
  {
   "cell_type": "code",
   "execution_count": 28,
   "metadata": {},
   "outputs": [
    {
     "data": {
      "text/plain": [
       "count              4149\n",
       "unique              415\n",
       "top       Sony Pictures\n",
       "freq                241\n",
       "Name: Distributor, dtype: object"
      ]
     },
     "execution_count": 28,
     "metadata": {},
     "output_type": "execute_result"
    }
   ],
   "source": [
    "\n",
    "d2000['Distributor'].describe()"
   ]
  },
  {
   "cell_type": "code",
   "execution_count": 29,
   "metadata": {},
   "outputs": [
    {
     "data": {
      "text/plain": [
       "count      4285\n",
       "unique        7\n",
       "top       Drama\n",
       "freq       1522\n",
       "Name: Genre, dtype: object"
      ]
     },
     "execution_count": 29,
     "metadata": {},
     "output_type": "execute_result"
    }
   ],
   "source": [
    "d2000['Genre'].describe()"
   ]
  },
  {
   "cell_type": "code",
   "execution_count": null,
   "metadata": {},
   "outputs": [],
   "source": []
  }
 ],
 "metadata": {
  "kernelspec": {
   "display_name": "Python 3",
   "language": "python",
   "name": "python3"
  },
  "language_info": {
   "codemirror_mode": {
    "name": "ipython",
    "version": 3
   },
   "file_extension": ".py",
   "mimetype": "text/x-python",
   "name": "python",
   "nbconvert_exporter": "python",
   "pygments_lexer": "ipython3",
   "version": "3.7.4"
  }
 },
 "nbformat": 4,
 "nbformat_minor": 2
}
